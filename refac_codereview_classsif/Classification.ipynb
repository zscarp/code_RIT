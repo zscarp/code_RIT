{
 "cells": [
  {
   "cell_type": "markdown",
   "metadata": {
    "id": "04BoPPZjP5Ao"
   },
   "source": [
    "# Step 1: Initial exploration and preparation of the Dataset"
   ]
  },
  {
   "cell_type": "code",
   "execution_count": 109,
   "metadata": {
    "executionInfo": {
     "elapsed": 428,
     "status": "ok",
     "timestamp": 1698684972757,
     "user": {
      "displayName": "Glenn Piner",
      "userId": "12713112599260789798"
     },
     "user_tz": 420
    },
    "id": "qumEkLcPP5Ao"
   },
   "outputs": [],
   "source": [
    "import pandas as pd\n",
    "import numpy as np\n",
    "import matplotlib.pyplot as plt"
   ]
  },
  {
   "cell_type": "code",
   "execution_count": 110,
   "metadata": {
    "colab": {
     "base_uri": "https://localhost:8080/"
    },
    "executionInfo": {
     "elapsed": 18882,
     "status": "ok",
     "timestamp": 1698684991635,
     "user": {
      "displayName": "Glenn Piner",
      "userId": "12713112599260789798"
     },
     "user_tz": 420
    },
    "id": "nC4rKB1pP5Ap",
    "outputId": "b247b58e-e78b-4f93-d09f-a88926b9540f"
   },
   "outputs": [
    {
     "data": {
      "text/plain": [
       "(3838, 11)"
      ]
     },
     "execution_count": 110,
     "metadata": {},
     "output_type": "execute_result"
    }
   ],
   "source": [
    "data = pd.read_csv('Code_review.csv')\n",
    "data.shape"
   ]
  },
  {
   "cell_type": "code",
   "execution_count": 111,
   "metadata": {
    "colab": {
     "base_uri": "https://localhost:8080/",
     "height": 206
    },
    "executionInfo": {
     "elapsed": 10,
     "status": "ok",
     "timestamp": 1698684991635,
     "user": {
      "displayName": "Glenn Piner",
      "userId": "12713112599260789798"
     },
     "user_tz": 420
    },
    "id": "0_PMY_XfiXPQ",
    "outputId": "8ace5a83-70dd-4b8c-aa57-15d0855c850f"
   },
   "outputs": [
    {
     "data": {
      "text/html": [
       "<div>\n",
       "<style scoped>\n",
       "    .dataframe tbody tr th:only-of-type {\n",
       "        vertical-align: middle;\n",
       "    }\n",
       "\n",
       "    .dataframe tbody tr th {\n",
       "        vertical-align: top;\n",
       "    }\n",
       "\n",
       "    .dataframe thead th {\n",
       "        text-align: right;\n",
       "    }\n",
       "</style>\n",
       "<table border=\"1\" class=\"dataframe\">\n",
       "  <thead>\n",
       "    <tr style=\"text-align: right;\">\n",
       "      <th></th>\n",
       "      <th>id</th>\n",
       "      <th>url</th>\n",
       "      <th>subject</th>\n",
       "      <th>description</th>\n",
       "      <th>Category</th>\n",
       "      <th>Unnamed: 5</th>\n",
       "      <th>Unnamed: 6</th>\n",
       "      <th>Unnamed: 7</th>\n",
       "      <th>Unnamed: 8</th>\n",
       "      <th>Unnamed: 9</th>\n",
       "      <th>Unnamed: 10</th>\n",
       "    </tr>\n",
       "  </thead>\n",
       "  <tbody>\n",
       "    <tr>\n",
       "      <th>0</th>\n",
       "      <td>openstack%2Frally~master~I9da0124d5a644fccb6e6...</td>\n",
       "      <td>https://review.opendev.org/240219</td>\n",
       "      <td>Refactoring log utils</td>\n",
       "      <td>Refactoring log utils  * Moved log functions f...</td>\n",
       "      <td>testing</td>\n",
       "      <td>NaN</td>\n",
       "      <td>NaN</td>\n",
       "      <td>NaN</td>\n",
       "      <td>NaN</td>\n",
       "      <td>NaN</td>\n",
       "      <td>NaN</td>\n",
       "    </tr>\n",
       "    <tr>\n",
       "      <th>1</th>\n",
       "      <td>openstack%2Frally~master~I9da0124d5a644fccb6e6...</td>\n",
       "      <td>https://review.opendev.org/240219</td>\n",
       "      <td>Refactoring log utils</td>\n",
       "      <td>Refactoring log utils  * Moved log functions f...</td>\n",
       "      <td>objective</td>\n",
       "      <td>NaN</td>\n",
       "      <td>NaN</td>\n",
       "      <td>NaN</td>\n",
       "      <td>NaN</td>\n",
       "      <td>NaN</td>\n",
       "      <td>NaN</td>\n",
       "    </tr>\n",
       "    <tr>\n",
       "      <th>2</th>\n",
       "      <td>zuul%2Fzuul~master~Icbe206db6bcbaaf78a3d89997f...</td>\n",
       "      <td>https://review.opendev.org/223063</td>\n",
       "      <td>(WIP) Refactor for better connection testing</td>\n",
       "      <td>(WIP) Refactor for better connection testing  ...</td>\n",
       "      <td>testing</td>\n",
       "      <td>NaN</td>\n",
       "      <td>NaN</td>\n",
       "      <td>NaN</td>\n",
       "      <td>NaN</td>\n",
       "      <td>NaN</td>\n",
       "      <td>NaN</td>\n",
       "    </tr>\n",
       "    <tr>\n",
       "      <th>3</th>\n",
       "      <td>zuul%2Fzuul~master~Icbe206db6bcbaaf78a3d89997f...</td>\n",
       "      <td>https://review.opendev.org/223063</td>\n",
       "      <td>(WIP) Refactor for better connection testing</td>\n",
       "      <td>(WIP) Refactor for better connection testing  ...</td>\n",
       "      <td>objective</td>\n",
       "      <td>NaN</td>\n",
       "      <td>NaN</td>\n",
       "      <td>NaN</td>\n",
       "      <td>NaN</td>\n",
       "      <td>NaN</td>\n",
       "      <td>NaN</td>\n",
       "    </tr>\n",
       "    <tr>\n",
       "      <th>4</th>\n",
       "      <td>openstack%2Fhorizon~master~I5d2272a0abb521ddb9...</td>\n",
       "      <td>https://review.opendev.org/142839</td>\n",
       "      <td>Refactor project instance test</td>\n",
       "      <td>Refactor project instance test  Refactoring th...</td>\n",
       "      <td>testing</td>\n",
       "      <td>NaN</td>\n",
       "      <td>NaN</td>\n",
       "      <td>NaN</td>\n",
       "      <td>NaN</td>\n",
       "      <td>NaN</td>\n",
       "      <td>NaN</td>\n",
       "    </tr>\n",
       "  </tbody>\n",
       "</table>\n",
       "</div>"
      ],
      "text/plain": [
       "                                                  id  \\\n",
       "0  openstack%2Frally~master~I9da0124d5a644fccb6e6...   \n",
       "1  openstack%2Frally~master~I9da0124d5a644fccb6e6...   \n",
       "2  zuul%2Fzuul~master~Icbe206db6bcbaaf78a3d89997f...   \n",
       "3  zuul%2Fzuul~master~Icbe206db6bcbaaf78a3d89997f...   \n",
       "4  openstack%2Fhorizon~master~I5d2272a0abb521ddb9...   \n",
       "\n",
       "                                 url  \\\n",
       "0  https://review.opendev.org/240219   \n",
       "1  https://review.opendev.org/240219   \n",
       "2  https://review.opendev.org/223063   \n",
       "3  https://review.opendev.org/223063   \n",
       "4  https://review.opendev.org/142839   \n",
       "\n",
       "                                        subject  \\\n",
       "0                         Refactoring log utils   \n",
       "1                         Refactoring log utils   \n",
       "2  (WIP) Refactor for better connection testing   \n",
       "3  (WIP) Refactor for better connection testing   \n",
       "4                Refactor project instance test   \n",
       "\n",
       "                                         description   Category  Unnamed: 5  \\\n",
       "0  Refactoring log utils  * Moved log functions f...    testing         NaN   \n",
       "1  Refactoring log utils  * Moved log functions f...  objective         NaN   \n",
       "2  (WIP) Refactor for better connection testing  ...    testing         NaN   \n",
       "3  (WIP) Refactor for better connection testing  ...  objective         NaN   \n",
       "4  Refactor project instance test  Refactoring th...    testing         NaN   \n",
       "\n",
       "   Unnamed: 6  Unnamed: 7  Unnamed: 8  Unnamed: 9  Unnamed: 10  \n",
       "0         NaN         NaN         NaN         NaN          NaN  \n",
       "1         NaN         NaN         NaN         NaN          NaN  \n",
       "2         NaN         NaN         NaN         NaN          NaN  \n",
       "3         NaN         NaN         NaN         NaN          NaN  \n",
       "4         NaN         NaN         NaN         NaN          NaN  "
      ]
     },
     "execution_count": 111,
     "metadata": {},
     "output_type": "execute_result"
    }
   ],
   "source": [
    "data.head()"
   ]
  },
  {
   "cell_type": "markdown",
   "metadata": {
    "id": "ZTvaxtrdizTB"
   },
   "source": [
    "### We only need the subject, descripton, and category columns. The goal of the project is to predict the category from the subject and description."
   ]
  },
  {
   "cell_type": "code",
   "execution_count": 112,
   "metadata": {
    "colab": {
     "base_uri": "https://localhost:8080/"
    },
    "executionInfo": {
     "elapsed": 228,
     "status": "ok",
     "timestamp": 1698684991855,
     "user": {
      "displayName": "Glenn Piner",
      "userId": "12713112599260789798"
     },
     "user_tz": 420
    },
    "id": "4S-QjonsP5Aq",
    "outputId": "ac279dd2-3d06-4c10-8d4d-5e71a3f564ae"
   },
   "outputs": [
    {
     "name": "stdout",
     "output_type": "stream",
     "text": [
      "(3838, 3)\n",
      "(3836, 3)\n"
     ]
    }
   ],
   "source": [
    "# Select subject, description, and category columns. Drop any rows with NaNs.\n",
    "data = data[[\"subject\",\"description\",\"Category\"]].copy()\n",
    "data.rename(columns = {'Category':'category'}, inplace = True)\n",
    "print(data.shape)\n",
    "data = data.dropna()\n",
    "print(data.shape)"
   ]
  },
  {
   "cell_type": "code",
   "execution_count": 113,
   "metadata": {
    "colab": {
     "base_uri": "https://localhost:8080/"
    },
    "executionInfo": {
     "elapsed": 225,
     "status": "ok",
     "timestamp": 1698684991855,
     "user": {
      "displayName": "Glenn Piner",
      "userId": "12713112599260789798"
     },
     "user_tz": 420
    },
    "id": "QwHK8oq1jVkl",
    "outputId": "ac7e0177-6845-4ee4-e768-de2690f40d45"
   },
   "outputs": [
    {
     "data": {
      "text/plain": [
       "objective      1549\n",
       "quality         937\n",
       "testing         745\n",
       "integration     440\n",
       "refactoring     165\n",
       "Name: category, dtype: int64"
      ]
     },
     "execution_count": 113,
     "metadata": {},
     "output_type": "execute_result"
    }
   ],
   "source": [
    "data.category.value_counts()"
   ]
  },
  {
   "cell_type": "markdown",
   "metadata": {
    "id": "tFj6cBkMP5Ar"
   },
   "source": [
    "### There are five different categories. These five categories are also not balanced, so this will be a multiclass classification problem with imbalanced data. Note that these counts match the counts given in our Excel file, so that is good."
   ]
  },
  {
   "cell_type": "markdown",
   "metadata": {
    "id": "OvZUoWF0P5Ar"
   },
   "source": [
    "### How many UNIQUE subject/description pairs are there ?"
   ]
  },
  {
   "cell_type": "code",
   "execution_count": 114,
   "metadata": {
    "colab": {
     "base_uri": "https://localhost:8080/"
    },
    "executionInfo": {
     "elapsed": 1495,
     "status": "ok",
     "timestamp": 1698684993348,
     "user": {
      "displayName": "Glenn Piner",
      "userId": "12713112599260789798"
     },
     "user_tz": 420
    },
    "id": "WUrTtRaSP5Ar",
    "outputId": "0d4a9b3d-6650-483b-97b4-3e4cbcc056bb"
   },
   "outputs": [
    {
     "data": {
      "text/plain": [
       "(1706, 2)"
      ]
     },
     "execution_count": 114,
     "metadata": {},
     "output_type": "execute_result"
    }
   ],
   "source": [
    "subjects_descriptions = np.array(data[[\"subject\",\"description\"]]).astype('str')\n",
    "uniquearr=np.unique(subjects_descriptions, axis=0)\n",
    "uniquearr.shape"
   ]
  },
  {
   "cell_type": "markdown",
   "metadata": {
    "id": "ncp-GmUyys1G"
   },
   "source": [
    "### There are 3836 lines in the file, but only 1706 unique subject/description pairs. This means that subject/description pairs can be assigned multiple categories; for example, to both 'testing' and 'objective'. So this will also be a multi-label classification problem, so something like this article might be a helpful guide: [Article on multi-label classification](https://towardsdatascience.com/journey-to-the-center-of-multi-label-classification-384c40229bff)"
   ]
  },
  {
   "cell_type": "markdown",
   "metadata": {
    "id": "J6n8KhKfDy95"
   },
   "source": [
    "### Now make a dataframe where we add a column of lists containing each of the categories that a description has been assigned to."
   ]
  },
  {
   "cell_type": "code",
   "execution_count": 115,
   "metadata": {
    "colab": {
     "base_uri": "https://localhost:8080/",
     "height": 206
    },
    "executionInfo": {
     "elapsed": 7072,
     "status": "ok",
     "timestamp": 1698685000418,
     "user": {
      "displayName": "Glenn Piner",
      "userId": "12713112599260789798"
     },
     "user_tz": 420
    },
    "id": "IlIZmuCq0Otj",
    "outputId": "f78dd4e7-5cc2-4427-91fe-0d9638ed9f0a"
   },
   "outputs": [
    {
     "data": {
      "text/html": [
       "<div>\n",
       "<style scoped>\n",
       "    .dataframe tbody tr th:only-of-type {\n",
       "        vertical-align: middle;\n",
       "    }\n",
       "\n",
       "    .dataframe tbody tr th {\n",
       "        vertical-align: top;\n",
       "    }\n",
       "\n",
       "    .dataframe thead th {\n",
       "        text-align: right;\n",
       "    }\n",
       "</style>\n",
       "<table border=\"1\" class=\"dataframe\">\n",
       "  <thead>\n",
       "    <tr style=\"text-align: right;\">\n",
       "      <th></th>\n",
       "      <th>subject</th>\n",
       "      <th>description</th>\n",
       "      <th>category_list</th>\n",
       "    </tr>\n",
       "  </thead>\n",
       "  <tbody>\n",
       "    <tr>\n",
       "      <th>1701</th>\n",
       "      <td>xenapi: refactor spawn to prep for more code s...</td>\n",
       "      <td>xenapi: refactor spawn so more code can be sha...</td>\n",
       "      <td>[objective, quality, objective]</td>\n",
       "    </tr>\n",
       "    <tr>\n",
       "      <th>1702</th>\n",
       "      <td>xenapi: refactor volumeops attach</td>\n",
       "      <td>xenapi: refactor volumeops attach  Refactor th...</td>\n",
       "      <td>[quality, objective]</td>\n",
       "    </tr>\n",
       "    <tr>\n",
       "      <th>1703</th>\n",
       "      <td>xenapi: refactor: move RawTGZImage to common</td>\n",
       "      <td>xenapi: refactor: move RawTGZImage to common  ...</td>\n",
       "      <td>[quality, objective, objective]</td>\n",
       "    </tr>\n",
       "    <tr>\n",
       "      <th>1704</th>\n",
       "      <td>xenapi: refactor: move UpdateGlanceImage to co...</td>\n",
       "      <td>xenapi: refactor: move UpdateGlanceImage to co...</td>\n",
       "      <td>[refactoring, objective, objective]</td>\n",
       "    </tr>\n",
       "    <tr>\n",
       "      <th>1705</th>\n",
       "      <td>zmq: Refactor test case shared code</td>\n",
       "      <td>zmq: Refactor test case shared code  A number ...</td>\n",
       "      <td>[testing, quality, objective]</td>\n",
       "    </tr>\n",
       "  </tbody>\n",
       "</table>\n",
       "</div>"
      ],
      "text/plain": [
       "                                                subject  \\\n",
       "1701  xenapi: refactor spawn to prep for more code s...   \n",
       "1702                  xenapi: refactor volumeops attach   \n",
       "1703       xenapi: refactor: move RawTGZImage to common   \n",
       "1704  xenapi: refactor: move UpdateGlanceImage to co...   \n",
       "1705                zmq: Refactor test case shared code   \n",
       "\n",
       "                                            description  \\\n",
       "1701  xenapi: refactor spawn so more code can be sha...   \n",
       "1702  xenapi: refactor volumeops attach  Refactor th...   \n",
       "1703  xenapi: refactor: move RawTGZImage to common  ...   \n",
       "1704  xenapi: refactor: move UpdateGlanceImage to co...   \n",
       "1705  zmq: Refactor test case shared code  A number ...   \n",
       "\n",
       "                            category_list  \n",
       "1701      [objective, quality, objective]  \n",
       "1702                 [quality, objective]  \n",
       "1703      [quality, objective, objective]  \n",
       "1704  [refactoring, objective, objective]  \n",
       "1705        [testing, quality, objective]  "
      ]
     },
     "execution_count": 115,
     "metadata": {},
     "output_type": "execute_result"
    }
   ],
   "source": [
    "pd.options.mode.chained_assignment = None  # default='warn'\n",
    "\n",
    "uniquedf = pd.DataFrame(uniquearr, columns = ['subject','description'])\n",
    "uniquedf['category_list'] = np.empty((len(uniquedf), 0)).tolist()\n",
    "\n",
    "for i in range(len(uniquedf)):\n",
    "  mask1 = (data.subject == uniquedf.subject[i])\n",
    "  mask2 = (data.description == uniquedf.description[i])\n",
    "  stage = data[mask1 & mask2]\n",
    "  uniquedf.category_list[i].extend(stage.category)\n",
    "uniquedf.tail()"
   ]
  },
  {
   "cell_type": "markdown",
   "metadata": {
    "id": "LF0lhz96Eg-J"
   },
   "source": [
    "### Now add a column for each category. This column will count how many times a given category was assigned to that description."
   ]
  },
  {
   "cell_type": "code",
   "execution_count": 116,
   "metadata": {
    "colab": {
     "base_uri": "https://localhost:8080/",
     "height": 206
    },
    "executionInfo": {
     "elapsed": 7038,
     "status": "ok",
     "timestamp": 1698685007454,
     "user": {
      "displayName": "Glenn Piner",
      "userId": "12713112599260789798"
     },
     "user_tz": 420
    },
    "id": "ZSk5J1anobxA",
    "outputId": "5f00c556-b5d6-4dc5-e17d-c93cd9c2f3af"
   },
   "outputs": [
    {
     "data": {
      "text/html": [
       "<div>\n",
       "<style scoped>\n",
       "    .dataframe tbody tr th:only-of-type {\n",
       "        vertical-align: middle;\n",
       "    }\n",
       "\n",
       "    .dataframe tbody tr th {\n",
       "        vertical-align: top;\n",
       "    }\n",
       "\n",
       "    .dataframe thead th {\n",
       "        text-align: right;\n",
       "    }\n",
       "</style>\n",
       "<table border=\"1\" class=\"dataframe\">\n",
       "  <thead>\n",
       "    <tr style=\"text-align: right;\">\n",
       "      <th></th>\n",
       "      <th>subject</th>\n",
       "      <th>description</th>\n",
       "      <th>category_list</th>\n",
       "      <th>objective</th>\n",
       "      <th>quality</th>\n",
       "      <th>testing</th>\n",
       "      <th>integration</th>\n",
       "      <th>refactoring</th>\n",
       "    </tr>\n",
       "  </thead>\n",
       "  <tbody>\n",
       "    <tr>\n",
       "      <th>1701</th>\n",
       "      <td>xenapi: refactor spawn to prep for more code s...</td>\n",
       "      <td>xenapi: refactor spawn so more code can be sha...</td>\n",
       "      <td>[objective, quality, objective]</td>\n",
       "      <td>2</td>\n",
       "      <td>1</td>\n",
       "      <td>0</td>\n",
       "      <td>0</td>\n",
       "      <td>0</td>\n",
       "    </tr>\n",
       "    <tr>\n",
       "      <th>1702</th>\n",
       "      <td>xenapi: refactor volumeops attach</td>\n",
       "      <td>xenapi: refactor volumeops attach  Refactor th...</td>\n",
       "      <td>[quality, objective]</td>\n",
       "      <td>1</td>\n",
       "      <td>1</td>\n",
       "      <td>0</td>\n",
       "      <td>0</td>\n",
       "      <td>0</td>\n",
       "    </tr>\n",
       "    <tr>\n",
       "      <th>1703</th>\n",
       "      <td>xenapi: refactor: move RawTGZImage to common</td>\n",
       "      <td>xenapi: refactor: move RawTGZImage to common  ...</td>\n",
       "      <td>[quality, objective, objective]</td>\n",
       "      <td>2</td>\n",
       "      <td>1</td>\n",
       "      <td>0</td>\n",
       "      <td>0</td>\n",
       "      <td>0</td>\n",
       "    </tr>\n",
       "    <tr>\n",
       "      <th>1704</th>\n",
       "      <td>xenapi: refactor: move UpdateGlanceImage to co...</td>\n",
       "      <td>xenapi: refactor: move UpdateGlanceImage to co...</td>\n",
       "      <td>[refactoring, objective, objective]</td>\n",
       "      <td>2</td>\n",
       "      <td>0</td>\n",
       "      <td>0</td>\n",
       "      <td>0</td>\n",
       "      <td>1</td>\n",
       "    </tr>\n",
       "    <tr>\n",
       "      <th>1705</th>\n",
       "      <td>zmq: Refactor test case shared code</td>\n",
       "      <td>zmq: Refactor test case shared code  A number ...</td>\n",
       "      <td>[testing, quality, objective]</td>\n",
       "      <td>1</td>\n",
       "      <td>1</td>\n",
       "      <td>1</td>\n",
       "      <td>0</td>\n",
       "      <td>0</td>\n",
       "    </tr>\n",
       "  </tbody>\n",
       "</table>\n",
       "</div>"
      ],
      "text/plain": [
       "                                                subject  \\\n",
       "1701  xenapi: refactor spawn to prep for more code s...   \n",
       "1702                  xenapi: refactor volumeops attach   \n",
       "1703       xenapi: refactor: move RawTGZImage to common   \n",
       "1704  xenapi: refactor: move UpdateGlanceImage to co...   \n",
       "1705                zmq: Refactor test case shared code   \n",
       "\n",
       "                                            description  \\\n",
       "1701  xenapi: refactor spawn so more code can be sha...   \n",
       "1702  xenapi: refactor volumeops attach  Refactor th...   \n",
       "1703  xenapi: refactor: move RawTGZImage to common  ...   \n",
       "1704  xenapi: refactor: move UpdateGlanceImage to co...   \n",
       "1705  zmq: Refactor test case shared code  A number ...   \n",
       "\n",
       "                            category_list  objective  quality  testing  \\\n",
       "1701      [objective, quality, objective]          2        1        0   \n",
       "1702                 [quality, objective]          1        1        0   \n",
       "1703      [quality, objective, objective]          2        1        0   \n",
       "1704  [refactoring, objective, objective]          2        0        0   \n",
       "1705        [testing, quality, objective]          1        1        1   \n",
       "\n",
       "      integration  refactoring  \n",
       "1701            0            0  \n",
       "1702            0            0  \n",
       "1703            0            0  \n",
       "1704            0            1  \n",
       "1705            0            0  "
      ]
     },
     "execution_count": 116,
     "metadata": {},
     "output_type": "execute_result"
    }
   ],
   "source": [
    "features = ['objective', 'quality', 'testing', 'integration', 'refactoring']\n",
    "uniquedf[features] = np.nan\n",
    "\n",
    "for i in range(len(uniquedf)):\n",
    "  for x in features:\n",
    "    uniquedf[x][i] = uniquedf.category_list[i].count(x)\n",
    "\n",
    "uniquedf = uniquedf.astype({\"subject\":'string', \"description\":'string'})\n",
    "uniquedf = uniquedf.astype({\"objective\":'int', \"quality\":'int', \"testing\":'int', \"integration\":'int', \"refactoring\":'int'})\n",
    "uniquedf.tail()"
   ]
  },
  {
   "cell_type": "markdown",
   "metadata": {
    "id": "P6oIj7rDrIq1"
   },
   "source": [
    "### Check that the sum is still what we had before from the original data frame and from the Excel file."
   ]
  },
  {
   "cell_type": "code",
   "execution_count": 117,
   "metadata": {
    "colab": {
     "base_uri": "https://localhost:8080/"
    },
    "executionInfo": {
     "elapsed": 8,
     "status": "ok",
     "timestamp": 1698685007454,
     "user": {
      "displayName": "Glenn Piner",
      "userId": "12713112599260789798"
     },
     "user_tz": 420
    },
    "id": "JQc0tvOTqNzP",
    "outputId": "7b779a9b-a44c-447d-c18b-c78377350ede"
   },
   "outputs": [
    {
     "data": {
      "text/plain": [
       "objective      1549\n",
       "quality         937\n",
       "testing         745\n",
       "integration     440\n",
       "refactoring     165\n",
       "dtype: int64"
      ]
     },
     "execution_count": 117,
     "metadata": {},
     "output_type": "execute_result"
    }
   ],
   "source": [
    "uniquedf[features].sum(axis=0)"
   ]
  },
  {
   "cell_type": "markdown",
   "metadata": {
    "id": "kJeZ3pJJrSRs"
   },
   "source": [
    "  ### Note from the data frame above that some desciptions have the same label applied more than once. This is probably because in the original paper, each of these categories had sub-categories that could be assigned. So a description might be assigned to more than one sub-category within the 'objective' category, say. We can just set numbers greater than one to one, since we are just interested in if a description belongs to that category or not."
   ]
  },
  {
   "cell_type": "code",
   "execution_count": 118,
   "metadata": {
    "colab": {
     "base_uri": "https://localhost:8080/",
     "height": 206
    },
    "executionInfo": {
     "elapsed": 215,
     "status": "ok",
     "timestamp": 1698685007665,
     "user": {
      "displayName": "Glenn Piner",
      "userId": "12713112599260789798"
     },
     "user_tz": 420
    },
    "id": "9leVPhCvsA3s",
    "outputId": "1405d1c2-5f4c-41cf-f5b4-e8c6d1532abb"
   },
   "outputs": [
    {
     "data": {
      "text/html": [
       "<div>\n",
       "<style scoped>\n",
       "    .dataframe tbody tr th:only-of-type {\n",
       "        vertical-align: middle;\n",
       "    }\n",
       "\n",
       "    .dataframe tbody tr th {\n",
       "        vertical-align: top;\n",
       "    }\n",
       "\n",
       "    .dataframe thead th {\n",
       "        text-align: right;\n",
       "    }\n",
       "</style>\n",
       "<table border=\"1\" class=\"dataframe\">\n",
       "  <thead>\n",
       "    <tr style=\"text-align: right;\">\n",
       "      <th></th>\n",
       "      <th>subject</th>\n",
       "      <th>description</th>\n",
       "      <th>category_list</th>\n",
       "      <th>objective</th>\n",
       "      <th>quality</th>\n",
       "      <th>testing</th>\n",
       "      <th>integration</th>\n",
       "      <th>refactoring</th>\n",
       "    </tr>\n",
       "  </thead>\n",
       "  <tbody>\n",
       "    <tr>\n",
       "      <th>1701</th>\n",
       "      <td>xenapi: refactor spawn to prep for more code s...</td>\n",
       "      <td>xenapi: refactor spawn so more code can be sha...</td>\n",
       "      <td>[objective, quality, objective]</td>\n",
       "      <td>1</td>\n",
       "      <td>1</td>\n",
       "      <td>0</td>\n",
       "      <td>0</td>\n",
       "      <td>0</td>\n",
       "    </tr>\n",
       "    <tr>\n",
       "      <th>1702</th>\n",
       "      <td>xenapi: refactor volumeops attach</td>\n",
       "      <td>xenapi: refactor volumeops attach  Refactor th...</td>\n",
       "      <td>[quality, objective]</td>\n",
       "      <td>1</td>\n",
       "      <td>1</td>\n",
       "      <td>0</td>\n",
       "      <td>0</td>\n",
       "      <td>0</td>\n",
       "    </tr>\n",
       "    <tr>\n",
       "      <th>1703</th>\n",
       "      <td>xenapi: refactor: move RawTGZImage to common</td>\n",
       "      <td>xenapi: refactor: move RawTGZImage to common  ...</td>\n",
       "      <td>[quality, objective, objective]</td>\n",
       "      <td>1</td>\n",
       "      <td>1</td>\n",
       "      <td>0</td>\n",
       "      <td>0</td>\n",
       "      <td>0</td>\n",
       "    </tr>\n",
       "    <tr>\n",
       "      <th>1704</th>\n",
       "      <td>xenapi: refactor: move UpdateGlanceImage to co...</td>\n",
       "      <td>xenapi: refactor: move UpdateGlanceImage to co...</td>\n",
       "      <td>[refactoring, objective, objective]</td>\n",
       "      <td>1</td>\n",
       "      <td>0</td>\n",
       "      <td>0</td>\n",
       "      <td>0</td>\n",
       "      <td>1</td>\n",
       "    </tr>\n",
       "    <tr>\n",
       "      <th>1705</th>\n",
       "      <td>zmq: Refactor test case shared code</td>\n",
       "      <td>zmq: Refactor test case shared code  A number ...</td>\n",
       "      <td>[testing, quality, objective]</td>\n",
       "      <td>1</td>\n",
       "      <td>1</td>\n",
       "      <td>1</td>\n",
       "      <td>0</td>\n",
       "      <td>0</td>\n",
       "    </tr>\n",
       "  </tbody>\n",
       "</table>\n",
       "</div>"
      ],
      "text/plain": [
       "                                                subject  \\\n",
       "1701  xenapi: refactor spawn to prep for more code s...   \n",
       "1702                  xenapi: refactor volumeops attach   \n",
       "1703       xenapi: refactor: move RawTGZImage to common   \n",
       "1704  xenapi: refactor: move UpdateGlanceImage to co...   \n",
       "1705                zmq: Refactor test case shared code   \n",
       "\n",
       "                                            description  \\\n",
       "1701  xenapi: refactor spawn so more code can be sha...   \n",
       "1702  xenapi: refactor volumeops attach  Refactor th...   \n",
       "1703  xenapi: refactor: move RawTGZImage to common  ...   \n",
       "1704  xenapi: refactor: move UpdateGlanceImage to co...   \n",
       "1705  zmq: Refactor test case shared code  A number ...   \n",
       "\n",
       "                            category_list  objective  quality  testing  \\\n",
       "1701      [objective, quality, objective]          1        1        0   \n",
       "1702                 [quality, objective]          1        1        0   \n",
       "1703      [quality, objective, objective]          1        1        0   \n",
       "1704  [refactoring, objective, objective]          1        0        0   \n",
       "1705        [testing, quality, objective]          1        1        1   \n",
       "\n",
       "      integration  refactoring  \n",
       "1701            0            0  \n",
       "1702            0            0  \n",
       "1703            0            0  \n",
       "1704            0            1  \n",
       "1705            0            0  "
      ]
     },
     "execution_count": 118,
     "metadata": {},
     "output_type": "execute_result"
    }
   ],
   "source": [
    "for x in features:\n",
    "  uniquedf.loc[uniquedf[x] > 1, x] = 1\n",
    "\n",
    "uniquedf.tail()"
   ]
  },
  {
   "cell_type": "code",
   "execution_count": 119,
   "metadata": {
    "colab": {
     "base_uri": "https://localhost:8080/"
    },
    "executionInfo": {
     "elapsed": 10,
     "status": "ok",
     "timestamp": 1698685007666,
     "user": {
      "displayName": "Glenn Piner",
      "userId": "12713112599260789798"
     },
     "user_tz": 420
    },
    "id": "hDRh9c9OtdUk",
    "outputId": "3f0f9c52-088b-4a77-a80d-a396a18f36fd"
   },
   "outputs": [
    {
     "name": "stdout",
     "output_type": "stream",
     "text": [
      "objective      1327\n",
      "quality         917\n",
      "testing         740\n",
      "integration     433\n",
      "refactoring     162\n",
      "dtype: int64\n",
      "objective      0.777843\n",
      "quality        0.537515\n",
      "testing        0.433763\n",
      "integration    0.253810\n",
      "refactoring    0.094959\n",
      "dtype: float64\n"
     ]
    }
   ],
   "source": [
    "#See what the counts are now that duplicates have been removed, and also check what the class balance is.\n",
    "print(uniquedf[features].sum(axis=0))\n",
    "print(uniquedf[features].sum(axis=0)/len(uniquedf))"
   ]
  },
  {
   "cell_type": "markdown",
   "metadata": {
    "id": "ZetFogzzE799"
   },
   "source": [
    "### Now we can delete the category_list column to complete the initial preparation of our cleaned dataset."
   ]
  },
  {
   "cell_type": "code",
   "execution_count": 120,
   "metadata": {
    "colab": {
     "base_uri": "https://localhost:8080/",
     "height": 206
    },
    "executionInfo": {
     "elapsed": 8,
     "status": "ok",
     "timestamp": 1698685007666,
     "user": {
      "displayName": "Glenn Piner",
      "userId": "12713112599260789798"
     },
     "user_tz": 420
    },
    "id": "mj2dT8QXFatI",
    "outputId": "d0bfd86b-9900-4197-a975-4a0c96d46fc9"
   },
   "outputs": [
    {
     "data": {
      "text/html": [
       "<div>\n",
       "<style scoped>\n",
       "    .dataframe tbody tr th:only-of-type {\n",
       "        vertical-align: middle;\n",
       "    }\n",
       "\n",
       "    .dataframe tbody tr th {\n",
       "        vertical-align: top;\n",
       "    }\n",
       "\n",
       "    .dataframe thead th {\n",
       "        text-align: right;\n",
       "    }\n",
       "</style>\n",
       "<table border=\"1\" class=\"dataframe\">\n",
       "  <thead>\n",
       "    <tr style=\"text-align: right;\">\n",
       "      <th></th>\n",
       "      <th>subject</th>\n",
       "      <th>description</th>\n",
       "      <th>objective</th>\n",
       "      <th>quality</th>\n",
       "      <th>testing</th>\n",
       "      <th>integration</th>\n",
       "      <th>refactoring</th>\n",
       "    </tr>\n",
       "  </thead>\n",
       "  <tbody>\n",
       "    <tr>\n",
       "      <th>0</th>\n",
       "      <td>(WIP) Refactor for better connection testing</td>\n",
       "      <td>(WIP) Refactor for better connection testing  ...</td>\n",
       "      <td>1</td>\n",
       "      <td>0</td>\n",
       "      <td>1</td>\n",
       "      <td>0</td>\n",
       "      <td>0</td>\n",
       "    </tr>\n",
       "    <tr>\n",
       "      <th>1</th>\n",
       "      <td>(refactor) Refactor Ansible for standard-conta...</td>\n",
       "      <td>(refactor) Refactor Ansible for standard-conta...</td>\n",
       "      <td>1</td>\n",
       "      <td>1</td>\n",
       "      <td>0</td>\n",
       "      <td>0</td>\n",
       "      <td>0</td>\n",
       "    </tr>\n",
       "    <tr>\n",
       "      <th>2</th>\n",
       "      <td>- switch to testtools - remove pep8 warnings -...</td>\n",
       "      <td>- switch to testtools - remove pep8 warnings -...</td>\n",
       "      <td>1</td>\n",
       "      <td>0</td>\n",
       "      <td>1</td>\n",
       "      <td>1</td>\n",
       "      <td>0</td>\n",
       "    </tr>\n",
       "    <tr>\n",
       "      <th>3</th>\n",
       "      <td>A minor refactor in wsgi.py</td>\n",
       "      <td>A minor refactor in wsgi.py  A minor refactor ...</td>\n",
       "      <td>1</td>\n",
       "      <td>0</td>\n",
       "      <td>0</td>\n",
       "      <td>0</td>\n",
       "      <td>1</td>\n",
       "    </tr>\n",
       "    <tr>\n",
       "      <th>4</th>\n",
       "      <td>A minor refactor in wsgi.py</td>\n",
       "      <td>a minor refactor in wsgi.py  a minor refactor ...</td>\n",
       "      <td>1</td>\n",
       "      <td>0</td>\n",
       "      <td>0</td>\n",
       "      <td>0</td>\n",
       "      <td>1</td>\n",
       "    </tr>\n",
       "  </tbody>\n",
       "</table>\n",
       "</div>"
      ],
      "text/plain": [
       "                                             subject  \\\n",
       "0       (WIP) Refactor for better connection testing   \n",
       "1  (refactor) Refactor Ansible for standard-conta...   \n",
       "2  - switch to testtools - remove pep8 warnings -...   \n",
       "3                        A minor refactor in wsgi.py   \n",
       "4                        A minor refactor in wsgi.py   \n",
       "\n",
       "                                         description  objective  quality  \\\n",
       "0  (WIP) Refactor for better connection testing  ...          1        0   \n",
       "1  (refactor) Refactor Ansible for standard-conta...          1        1   \n",
       "2  - switch to testtools - remove pep8 warnings -...          1        0   \n",
       "3  A minor refactor in wsgi.py  A minor refactor ...          1        0   \n",
       "4  a minor refactor in wsgi.py  a minor refactor ...          1        0   \n",
       "\n",
       "   testing  integration  refactoring  \n",
       "0        1            0            0  \n",
       "1        0            0            0  \n",
       "2        1            1            0  \n",
       "3        0            0            1  \n",
       "4        0            0            1  "
      ]
     },
     "execution_count": 120,
     "metadata": {},
     "output_type": "execute_result"
    }
   ],
   "source": [
    "cleaned_df = uniquedf.drop(['category_list'], axis=1)\n",
    "cleaned_df.head()"
   ]
  },
  {
   "cell_type": "markdown",
   "metadata": {
    "id": "_NA8Sz5ixarc"
   },
   "source": [
    "### This should now be a cleaned and prepared data frame, ready for Phase 2. But first, we should check for any correlations among the five categories."
   ]
  },
  {
   "cell_type": "code",
   "execution_count": 121,
   "metadata": {
    "colab": {
     "base_uri": "https://localhost:8080/",
     "height": 545
    },
    "executionInfo": {
     "elapsed": 1328,
     "status": "ok",
     "timestamp": 1698685008987,
     "user": {
      "displayName": "Glenn Piner",
      "userId": "12713112599260789798"
     },
     "user_tz": 420
    },
    "id": "ZbGLxkL3bvvd",
    "outputId": "4a154b85-869b-478d-e469-e20bc5c5a57f"
   },
   "outputs": [
    {
     "data": {
      "image/png": "[encoded data removed]",
      "text/plain": [
       "<Figure size 432x432 with 2 Axes>"
      ]
     },
     "metadata": {
      "needs_background": "light"
     },
     "output_type": "display_data"
    }
   ],
   "source": [
    "import seaborn as sns\n",
    "plt.figure(figsize = (6,6))\n",
    "sns.heatmap(cleaned_df[features].corr(), cmap='viridis', annot=True, square=True)\n",
    "plt.show()"
   ]
  },
  {
   "cell_type": "markdown",
   "metadata": {
    "id": "upv63jLCDJmY"
   },
   "source": [
    "### There are no strong correlations. The highest magnitude is 0.37, which is considered a low correlation.\n",
    "\n",
    "### So now we can, for example, train a binary classifier for each of these five categories. So based on the review subject and/or the review description does the review belong to the 'objective' category, or not? Does it belong to the 'quality' category, or not?, etc."
   ]
  },
  {
   "cell_type": "markdown",
   "metadata": {
    "id": "MsAatGPqePsk"
   },
   "source": [
    "# Step 2: Visualize common subject and description words"
   ]
  },
  {
   "cell_type": "code",
   "execution_count": 122,
   "metadata": {
    "colab": {
     "base_uri": "https://localhost:8080/"
    },
    "executionInfo": {
     "elapsed": 1589,
     "status": "ok",
     "timestamp": 1698685010574,
     "user": {
      "displayName": "Glenn Piner",
      "userId": "12713112599260789798"
     },
     "user_tz": 420
    },
    "id": "t9knvlmMR05J",
    "outputId": "4203f026-adc9-4150-a740-e47a75b4fb8b"
   },
   "outputs": [
    {
     "name": "stderr",
     "output_type": "stream",
     "text": [
      "[nltk_data] Downloading package punkt to\n",
      "[nltk_data]     C:\\Users\\zscar\\AppData\\Roaming\\nltk_data...\n",
      "[nltk_data]   Package punkt is already up-to-date!\n",
      "[nltk_data] Downloading package stopwords to\n",
      "[nltk_data]     C:\\Users\\zscar\\AppData\\Roaming\\nltk_data...\n",
      "[nltk_data]   Package stopwords is already up-to-date!\n"
     ]
    }
   ],
   "source": [
    "import nltk\n",
    "nltk.download('punkt')\n",
    "nltk.download('stopwords')\n",
    "from nltk.tokenize import word_tokenize\n",
    "from nltk.corpus import stopwords\n",
    "from nltk.stem.snowball import SnowballStemmer\n",
    "import string\n",
    "\n",
    "stop_set = set(stopwords.words('english')+ list(string.punctuation))\n",
    "snowball = SnowballStemmer('english')"
   ]
  },
  {
   "cell_type": "code",
   "execution_count": 123,
   "metadata": {
    "executionInfo": {
     "elapsed": 5,
     "status": "ok",
     "timestamp": 1698685010575,
     "user": {
      "displayName": "Glenn Piner",
      "userId": "12713112599260789798"
     },
     "user_tz": 420
    },
    "id": "8Ue4MZLeCrxh"
   },
   "outputs": [],
   "source": [
    "def process_text(textcolumn):\n",
    "  concat = textcolumn.str.cat(sep=' ')\n",
    "  tokens = word_tokenize(concat.lower())\n",
    "  tokens = [w for w in tokens if not w in stop_set]\n",
    "  stem = []\n",
    "  for t in tokens:\n",
    "    stem.append(snowball.stem(t))\n",
    "  stem = [i for i in stem if i != 'refactor'] #This was a selection criteria, so will be in every item by definition, so provides no information.\n",
    "  vocab = set(stem)\n",
    "  return (stem, vocab)"
   ]
  },
  {
   "cell_type": "code",
   "execution_count": 124,
   "metadata": {
    "colab": {
     "base_uri": "https://localhost:8080/"
    },
    "executionInfo": {
     "elapsed": 5,
     "status": "ok",
     "timestamp": 1698685010575,
     "user": {
      "displayName": "Glenn Piner",
      "userId": "12713112599260789798"
     },
     "user_tz": 420
    },
    "id": "T7nJpjCSW59V",
    "outputId": "030079a2-1a61-41f4-b443-5ed87e7c969c"
   },
   "outputs": [
    {
     "name": "stdout",
     "output_type": "stream",
     "text": [
      "Total number of subject words: 6370\n",
      "Size of subject voabulary: 1891\n"
     ]
    }
   ],
   "source": [
    "subject_stem, subject_vocab = process_text(cleaned_df.subject)\n",
    "\n",
    "print('Total number of subject words:', len(subject_stem))\n",
    "print('Size of subject voabulary:', len(subject_vocab))"
   ]
  },
  {
   "cell_type": "code",
   "execution_count": 125,
   "metadata": {
    "colab": {
     "base_uri": "https://localhost:8080/"
    },
    "executionInfo": {
     "elapsed": 1549,
     "status": "ok",
     "timestamp": 1698685012121,
     "user": {
      "displayName": "Glenn Piner",
      "userId": "12713112599260789798"
     },
     "user_tz": 420
    },
    "id": "hONU1HqaERs9",
    "outputId": "a2bcbd6d-94cd-447f-94bc-f2bf67eeb405"
   },
   "outputs": [
    {
     "name": "stdout",
     "output_type": "stream",
     "text": [
      "Total number of description words: 60377\n",
      "Size of description voabulary: 9208\n"
     ]
    }
   ],
   "source": [
    "description_stem, description_vocab = process_text(cleaned_df.description)\n",
    "\n",
    "print('Total number of description words:', len(description_stem))\n",
    "print('Size of description voabulary:', len(description_vocab))"
   ]
  },
  {
   "cell_type": "code",
   "execution_count": 126,
   "metadata": {
    "colab": {
     "base_uri": "https://localhost:8080/",
     "height": 532
    },
    "executionInfo": {
     "elapsed": 596,
     "status": "ok",
     "timestamp": 1698685012715,
     "user": {
      "displayName": "Glenn Piner",
      "userId": "12713112599260789798"
     },
     "user_tz": 420
    },
    "id": "jqEsciJAYkkg",
    "outputId": "7c236468-f2f7-4d80-a48f-163ace26b331"
   },
   "outputs": [
    {
     "data": {
      "image/png": "[encoded data removed]",
      "text/plain": [
       "<Figure size 1152x360 with 2 Axes>"
      ]
     },
     "metadata": {
      "needs_background": "light"
     },
     "output_type": "display_data"
    }
   ],
   "source": [
    "subject_freq = nltk.FreqDist(subject_stem)\n",
    "description_freq = nltk.FreqDist(description_stem)\n",
    "\n",
    "subject_words, subject_frequencies = zip(*subject_freq.most_common(10))\n",
    "desc_words, desc_frequencies = zip(*description_freq.most_common(10))\n",
    "\n",
    "fig, axs = plt.subplots(1,2, figsize=(16, 5))\n",
    "\n",
    "axs[0].bar(subject_words, subject_frequencies)\n",
    "axs[0].set_title('10 Most Common Subject Words')\n",
    "axs[0].set_xticks(subject_words)\n",
    "axs[0].set_xticklabels(subject_words, rotation=45)\n",
    "\n",
    "axs[1].bar(desc_words, desc_frequencies)\n",
    "axs[1].set_title('10 Most Common Description Words')\n",
    "axs[1].set_xticks(desc_words)\n",
    "axs[1].set_xticklabels(desc_words, rotation=45)\n",
    "\n",
    "for ax in axs:\n",
    "    ax.set_xlabel('Words')\n",
    "    ax.set_ylabel('Count')\n",
    "\n",
    "plt.show()"
   ]
  },
  {
   "cell_type": "markdown",
   "metadata": {
    "id": "dscHUuTGfIgD"
   },
   "source": [
    "# Step 3: Train Binary Classifiers Based on TF-IDF"
   ]
  },
  {
   "cell_type": "code",
   "execution_count": 127,
   "metadata": {
    "executionInfo": {
     "elapsed": 7,
     "status": "ok",
     "timestamp": 1698685012716,
     "user": {
      "displayName": "Glenn Piner",
      "userId": "12713112599260789798"
     },
     "user_tz": 420
    },
    "id": "lv8CGLB_bMsF"
   },
   "outputs": [],
   "source": [
    "from sklearn.feature_extraction.text import TfidfVectorizer\n",
    "from sklearn.model_selection import train_test_split\n",
    "from sklearn.metrics  import accuracy_score\n",
    "from sklearn.metrics import precision_recall_fscore_support\n",
    "from sklearn.metrics import roc_auc_score"
   ]
  },
  {
   "cell_type": "code",
   "execution_count": 128,
   "metadata": {
    "executionInfo": {
     "elapsed": 6,
     "status": "ok",
     "timestamp": 1698685012716,
     "user": {
      "displayName": "Glenn Piner",
      "userId": "12713112599260789798"
     },
     "user_tz": 420
    },
    "id": "eE1OmZAUwXhS"
   },
   "outputs": [],
   "source": [
    "def vectorize_text_columns (Xdataframe, y):\n",
    "\n",
    "  X_train, X_test, y_train, y_test = train_test_split(Xdataframe, y, random_state=123)\n",
    "  #X_train, X_test, y_train, y_test = train_test_split(Xdataframe, y)\n",
    "\n",
    "  tfidf_vect = TfidfVectorizer()\n",
    "  X_train_vect1 = tfidf_vect.fit_transform(X_train.subject)\n",
    "  X_test_vect1 = tfidf_vect.transform(X_test.subject)\n",
    "\n",
    "  #print(X_train_vect1.shape)\n",
    "  #print(X_train_vect1[0][0:3])\n",
    "  #print(tfidf_vect.get_feature_names_out())\n",
    "\n",
    "  tfidf_vect2 = TfidfVectorizer()\n",
    "  X_train_vect2 = tfidf_vect2.fit_transform(X_train.description)\n",
    "  X_test_vect2 = tfidf_vect2.transform(X_test.description)\n",
    "\n",
    "  #print(X_train_vect2.shape)\n",
    "  #print(X_train_vect2[0][0:3])\n",
    "  #print(tfidf_vect2.get_feature_names_out())\n",
    "\n",
    "  return(X_train_vect1, X_test_vect1, X_train_vect2, X_test_vect2, y_train, y_test)"
   ]
  },
  {
   "cell_type": "markdown",
   "metadata": {
    "id": "1MOOGukzp14y"
   },
   "source": [
    "### The paper by Herbold et al. (2020) generates a combined probability from (subject probability + description probability) / 2, and then classifies based on the combined probability, so we use that approach below. This function reports the accuracies of the subject classifications, the description classifications, and the combined classifications. It also reports precision, recall, and f1 score for each of these."
   ]
  },
  {
   "cell_type": "code",
   "execution_count": 129,
   "metadata": {
    "executionInfo": {
     "elapsed": 6,
     "status": "ok",
     "timestamp": 1698685012716,
     "user": {
      "displayName": "Glenn Piner",
      "userId": "12713112599260789798"
     },
     "user_tz": 420
    },
    "id": "WAVGERCUWbvi"
   },
   "outputs": [],
   "source": [
    "def predict_and_score(classifier1, x_test1, classifier2, x_test2, y_test):\n",
    "\n",
    "  predicted_prob_subj = classifier1.predict_proba(x_test1)\n",
    "  predicted_bin_subj = classifier1.predict(x_test1)\n",
    "  print('Subject accuracy:', accuracy_score(y_test,predicted_bin_subj))\n",
    "  print('Subject AUC score:',roc_auc_score(y_test, predicted_prob_subj[:,1]))\n",
    "  print('Subject precision, recall, f1 score:',precision_recall_fscore_support(y_test,predicted_bin_subj, average='binary', pos_label=1)[0:3])\n",
    "  print()\n",
    "\n",
    "  predicted_prob_desc = classifier2.predict_proba(x_test2)\n",
    "  predicted_bin_desc = classifier2.predict(x_test2)\n",
    "  print('Description accuracy:', accuracy_score(y_test,predicted_bin_desc))\n",
    "  print('Description AUC score:',roc_auc_score(y_test, predicted_prob_desc[:,1]))\n",
    "  print('Description precision, recall, f1 score:', precision_recall_fscore_support(y_test,predicted_bin_desc, average='binary', pos_label=1)[0:3])\n",
    "  print()\n",
    "\n",
    "  predicted_prob_comb = (predicted_prob_subj + predicted_prob_desc)/2.0\n",
    "  predicted_bin_comb = np.argmax(predicted_prob_comb, axis=1)\n",
    "  print('Combined accuracy:', accuracy_score(y_test,predicted_bin_comb))\n",
    "  print('Combined AUC score:',roc_auc_score(y_test, predicted_prob_comb[:,1]))\n",
    "  print('Combined precision, recall, f1 score:', precision_recall_fscore_support(y_test,predicted_bin_comb, average='binary', pos_label=1)[0:3])\n",
    "  print()\n",
    "\n",
    "  return (predicted_bin_subj, predicted_bin_desc, predicted_bin_comb, predicted_prob_subj, predicted_prob_desc, predicted_prob_comb)\n"
   ]
  },
  {
   "cell_type": "markdown",
   "metadata": {
    "id": "8xDtZg6b7gGF"
   },
   "source": [
    "### Function to plot the confusion matrices for the subject classifier, the description classifier, and the combined classifier."
   ]
  },
  {
   "cell_type": "code",
   "execution_count": 130,
   "metadata": {
    "executionInfo": {
     "elapsed": 6,
     "status": "ok",
     "timestamp": 1698685012716,
     "user": {
      "displayName": "Glenn Piner",
      "userId": "12713112599260789798"
     },
     "user_tz": 420
    },
    "id": "PSAZiccB7PeT"
   },
   "outputs": [],
   "source": [
    "def confusion_plot(y_test, predicted_bin_subj, predicted_bin_desc, predicted_bin_comb):\n",
    "\n",
    "  from sklearn.metrics import ConfusionMatrixDisplay\n",
    "\n",
    "  fig, axs = plt.subplots(1,3, figsize=(18, 5))\n",
    "\n",
    "  ConfusionMatrixDisplay.from_predictions(y_test, predicted_bin_subj, ax=axs[0])\n",
    "  ConfusionMatrixDisplay.from_predictions(y_test, predicted_bin_desc, ax=axs[1])\n",
    "  ConfusionMatrixDisplay.from_predictions(y_test, predicted_bin_comb, ax=axs[2])\n",
    "\n",
    "  axs[0].set_title('Subject')\n",
    "  axs[1].set_title('Description')\n",
    "  axs[2].set_title('Combined')\n",
    "\n",
    "  plt.show()"
   ]
  },
  {
   "cell_type": "markdown",
   "metadata": {
    "id": "9dAVmVtdez5s"
   },
   "source": [
    "### Function for plotting ROC curves."
   ]
  },
  {
   "cell_type": "code",
   "execution_count": 131,
   "metadata": {
    "executionInfo": {
     "elapsed": 5,
     "status": "ok",
     "timestamp": 1698685012716,
     "user": {
      "displayName": "Glenn Piner",
      "userId": "12713112599260789798"
     },
     "user_tz": 420
    },
    "id": "DaD33d7OP1Td"
   },
   "outputs": [],
   "source": [
    "def roc_plot(y_test, predicted_prob_subj, predicted_prob_desc, predicted_prob_comb, name):\n",
    "\n",
    "  from sklearn.metrics import RocCurveDisplay\n",
    "\n",
    "  fig, axs = plt.subplots(1,3, figsize=(16, 4))\n",
    "\n",
    "  RocCurveDisplay.from_predictions(y_test, predicted_prob_subj[:,1], ax=axs[0], name=name)\n",
    "  RocCurveDisplay.from_predictions(y_test, predicted_prob_desc[:,1], ax=axs[1], name=name)\n",
    "  RocCurveDisplay.from_predictions(y_test, predicted_prob_comb[:,1], ax=axs[2], name=name)\n",
    "\n",
    "  axs[0].set_title('Subject')\n",
    "  axs[1].set_title('Description')\n",
    "  axs[2].set_title('Combined')\n",
    "\n",
    "  plt.show()"
   ]
  },
  {
   "cell_type": "code",
   "execution_count": 132,
   "metadata": {
    "executionInfo": {
     "elapsed": 6,
     "status": "ok",
     "timestamp": 1698685012717,
     "user": {
      "displayName": "Glenn Piner",
      "userId": "12713112599260789798"
     },
     "user_tz": 420
    },
    "id": "hCwXSQy_5irZ"
   },
   "outputs": [],
   "source": [
    "def fit_naive_bayes(X_train_vect1, X_test_vect1, X_train_vect2, X_test_vect2, y_train, y_test):\n",
    "\n",
    "  from sklearn.naive_bayes import ComplementNB\n",
    "\n",
    "  clf1 = ComplementNB().fit(X_train_vect1, y_train)\n",
    "  clf2 = ComplementNB().fit(X_train_vect2, y_train)\n",
    "\n",
    "  predict_subj, predict_desc, predict_comb, predict_prob_subj, predict_prob_desc, predict_prob_comb = predict_and_score(clf1, X_test_vect1, clf2, X_test_vect2, y_test)\n",
    "\n",
    "  confusion_plot(y_test, predict_subj, predict_desc, predict_comb)\n",
    "  roc_plot(y_test, predict_prob_subj, predict_prob_desc, predict_prob_comb, 'Naive Bayes')\n"
   ]
  },
  {
   "cell_type": "code",
   "execution_count": 133,
   "metadata": {
    "executionInfo": {
     "elapsed": 6,
     "status": "ok",
     "timestamp": 1698685012717,
     "user": {
      "displayName": "Glenn Piner",
      "userId": "12713112599260789798"
     },
     "user_tz": 420
    },
    "id": "hZr7wlE2UdHg"
   },
   "outputs": [],
   "source": [
    "def fit_logistic_regression(X_train_vect1, X_test_vect1, X_train_vect2, X_test_vect2, y_train, y_test):\n",
    "\n",
    "  from sklearn.linear_model import LogisticRegression\n",
    "\n",
    "  clf1 = LogisticRegression(class_weight='balanced').fit(X_train_vect1, y_train)\n",
    "  clf2 = LogisticRegression(class_weight='balanced').fit(X_train_vect2, y_train)\n",
    "\n",
    "  predict_subj, predict_desc, predict_comb, predict_prob_subj, predict_prob_desc, predict_prob_comb = predict_and_score(clf1, X_test_vect1, clf2, X_test_vect2, y_test)\n",
    "\n",
    "  confusion_plot(y_test, predict_subj, predict_desc, predict_comb)\n",
    "  roc_plot(y_test, predict_prob_subj, predict_prob_desc, predict_prob_comb, 'Logistic Regression')"
   ]
  },
  {
   "cell_type": "code",
   "execution_count": 134,
   "metadata": {
    "executionInfo": {
     "elapsed": 4,
     "status": "ok",
     "timestamp": 1698685012892,
     "user": {
      "displayName": "Glenn Piner",
      "userId": "12713112599260789798"
     },
     "user_tz": 420
    },
    "id": "PINcazbvsVjY"
   },
   "outputs": [],
   "source": [
    "def fit_random_forest(X_train_vect1, X_test_vect1, X_train_vect2, X_test_vect2, y_train, y_test):\n",
    "\n",
    "  from sklearn.ensemble import RandomForestClassifier\n",
    "\n",
    "  clf1 = RandomForestClassifier(class_weight='balanced', random_state=123).fit(X_train_vect1, y_train)\n",
    "  clf2 = RandomForestClassifier(class_weight='balanced', random_state=123).fit(X_train_vect2, y_train)\n",
    "\n",
    "  predict_subj, predict_desc, predict_comb, predict_prob_subj, predict_prob_desc, predict_prob_comb = predict_and_score(clf1, X_test_vect1, clf2, X_test_vect2, y_test)\n",
    "\n",
    "  confusion_plot(y_test, predict_subj, predict_desc, predict_comb)\n",
    "  roc_plot(y_test, predict_prob_subj, predict_prob_desc, predict_prob_comb, 'Random Forest')"
   ]
  },
  {
   "cell_type": "code",
   "execution_count": 135,
   "metadata": {
    "executionInfo": {
     "elapsed": 3,
     "status": "ok",
     "timestamp": 1698685012892,
     "user": {
      "displayName": "Glenn Piner",
      "userId": "12713112599260789798"
     },
     "user_tz": 420
    },
    "id": "r12ixexg2VBn"
   },
   "outputs": [],
   "source": [
    "def fit_support_vector(X_train_vect1, X_test_vect1, X_train_vect2, X_test_vect2, y_train, y_test):\n",
    "\n",
    "  from sklearn.svm import SVC\n",
    "\n",
    "  clf1 = SVC(class_weight='balanced', probability=True, random_state=123).fit(X_train_vect1, y_train)\n",
    "  clf2 = SVC(class_weight='balanced', probability=True, random_state=123).fit(X_train_vect2, y_train)\n",
    "\n",
    "  predict_subj, predict_desc, predict_comb, predict_prob_subj, predict_prob_desc, predict_prob_comb = predict_and_score(clf1, X_test_vect1, clf2, X_test_vect2, y_test)\n",
    "\n",
    "  confusion_plot(y_test, predict_subj, predict_desc, predict_comb)\n",
    "  roc_plot(y_test, predict_prob_subj, predict_prob_desc, predict_prob_comb, 'Support Vector')"
   ]
  },
  {
   "cell_type": "code",
   "execution_count": 136,
   "metadata": {
    "executionInfo": {
     "elapsed": 3,
     "status": "ok",
     "timestamp": 1698685012892,
     "user": {
      "displayName": "Glenn Piner",
      "userId": "12713112599260789798"
     },
     "user_tz": 420
    },
    "id": "Q3euLWuXVEjX"
   },
   "outputs": [],
   "source": [
    "def fit_everything(categories_to_fit):\n",
    "\n",
    "  for category in categories_to_fit:\n",
    "\n",
    "    print()\n",
    "    print('*** FITTING CATEOGROY: ', category, ' ***')\n",
    "    print()\n",
    "    X_train_vect1, X_test_vect1, X_train_vect2, X_test_vect2, y_train, y_test = vectorize_text_columns(cleaned_df[['subject', 'description']], cleaned_df[category])\n",
    "\n",
    "    print()\n",
    "    print('FITTING NAIVE BAYES CLASSIFIER TO CATEGORY: ', category)\n",
    "    print()\n",
    "    fit_naive_bayes(X_train_vect1, X_test_vect1, X_train_vect2, X_test_vect2, y_train, y_test)\n",
    "\n",
    "    print()\n",
    "    print('FITTING LOGISTIC REGRESSION CLASSIFIER TO CATEGORY: ', category)\n",
    "    print()\n",
    "    fit_logistic_regression(X_train_vect1, X_test_vect1, X_train_vect2, X_test_vect2, y_train, y_test)\n",
    "\n",
    "    print()\n",
    "    print('FITTING RANDOM FOREST CLASSIFIER TO CATEGORY: ', category)\n",
    "    print()\n",
    "    fit_random_forest(X_train_vect1, X_test_vect1, X_train_vect2, X_test_vect2, y_train, y_test)\n",
    "\n",
    "    print()\n",
    "    print('FITTING SUPPORT VECTOR CLASSIFIER TO CATEGORY: ', category)\n",
    "    print()\n",
    "    fit_support_vector(X_train_vect1, X_test_vect1, X_train_vect2, X_test_vect2, y_train, y_test)\n"
   ]
  },
  {
   "cell_type": "code",
   "execution_count": 137,
   "metadata": {
    "colab": {
     "base_uri": "https://localhost:8080/",
     "height": 1000
    },
    "executionInfo": {
     "elapsed": 61172,
     "status": "ok",
     "timestamp": 1698685074061,
     "user": {
      "displayName": "Glenn Piner",
      "userId": "12713112599260789798"
     },
     "user_tz": 420
    },
    "id": "fhX3tGER0PP-",
    "outputId": "e779df7e-b1f5-466a-c85e-07067cca86ec"
   },
   "outputs": [
    {
     "name": "stdout",
     "output_type": "stream",
     "text": [
      "\n",
      "*** FITTING CATEOGROY:  objective  ***\n",
      "\n",
      "\n",
      "FITTING NAIVE BAYES CLASSIFIER TO CATEGORY:  objective\n",
      "\n",
      "Subject accuracy: 0.7494145199063232\n",
      "Subject AUC score: 0.6164235890932148\n",
      "Subject precision, recall, f1 score: (0.7968337730870713, 0.9096385542168675, 0.8495077355836849)\n",
      "\n",
      "Description accuracy: 0.7868852459016393\n",
      "Description AUC score: 0.8010145846544071\n",
      "Description precision, recall, f1 score: (0.7862232779097387, 0.9969879518072289, 0.8791500664010624)\n",
      "\n",
      "Combined accuracy: 0.7892271662763466\n",
      "Combined AUC score: 0.7301204819277108\n",
      "Combined precision, recall, f1 score: (0.7894736842105263, 0.9939759036144579, 0.88)\n",
      "\n"
     ]
    },
    {
     "ename": "AttributeError",
     "evalue": "type object 'ConfusionMatrixDisplay' has no attribute 'from_predictions'",
     "output_type": "error",
     "traceback": [
      "\u001b[1;31m---------------------------------------------------------------------------\u001b[0m",
      "\u001b[1;31mAttributeError\u001b[0m                            Traceback (most recent call last)",
      "\u001b[1;32m<ipython-input-137-c7962578430a>\u001b[0m in \u001b[0;36m<module>\u001b[1;34m\u001b[0m\n\u001b[0;32m      1\u001b[0m \u001b[0mcategories_to_fit\u001b[0m \u001b[1;33m=\u001b[0m \u001b[1;33m[\u001b[0m\u001b[1;34m'objective'\u001b[0m\u001b[1;33m,\u001b[0m\u001b[1;34m'quality'\u001b[0m\u001b[1;33m,\u001b[0m\u001b[1;34m'testing'\u001b[0m\u001b[1;33m,\u001b[0m\u001b[1;34m'integration'\u001b[0m\u001b[1;33m,\u001b[0m\u001b[1;34m'refactoring'\u001b[0m\u001b[1;33m]\u001b[0m \u001b[1;31m#Ordered from most populated to least populated. #Only 'quality' and 'testing' are approximately balanced.\u001b[0m\u001b[1;33m\u001b[0m\u001b[1;33m\u001b[0m\u001b[0m\n\u001b[0;32m      2\u001b[0m \u001b[1;33m\u001b[0m\u001b[0m\n\u001b[1;32m----> 3\u001b[1;33m \u001b[0mfit_everything\u001b[0m\u001b[1;33m(\u001b[0m\u001b[0mcategories_to_fit\u001b[0m\u001b[1;33m)\u001b[0m\u001b[1;33m\u001b[0m\u001b[1;33m\u001b[0m\u001b[0m\n\u001b[0m",
      "\u001b[1;32m<ipython-input-136-04da18170e6c>\u001b[0m in \u001b[0;36mfit_everything\u001b[1;34m(categories_to_fit)\u001b[0m\n\u001b[0;32m     11\u001b[0m     \u001b[0mprint\u001b[0m\u001b[1;33m(\u001b[0m\u001b[1;34m'FITTING NAIVE BAYES CLASSIFIER TO CATEGORY: '\u001b[0m\u001b[1;33m,\u001b[0m \u001b[0mcategory\u001b[0m\u001b[1;33m)\u001b[0m\u001b[1;33m\u001b[0m\u001b[1;33m\u001b[0m\u001b[0m\n\u001b[0;32m     12\u001b[0m     \u001b[0mprint\u001b[0m\u001b[1;33m(\u001b[0m\u001b[1;33m)\u001b[0m\u001b[1;33m\u001b[0m\u001b[1;33m\u001b[0m\u001b[0m\n\u001b[1;32m---> 13\u001b[1;33m     \u001b[0mfit_naive_bayes\u001b[0m\u001b[1;33m(\u001b[0m\u001b[0mX_train_vect1\u001b[0m\u001b[1;33m,\u001b[0m \u001b[0mX_test_vect1\u001b[0m\u001b[1;33m,\u001b[0m \u001b[0mX_train_vect2\u001b[0m\u001b[1;33m,\u001b[0m \u001b[0mX_test_vect2\u001b[0m\u001b[1;33m,\u001b[0m \u001b[0my_train\u001b[0m\u001b[1;33m,\u001b[0m \u001b[0my_test\u001b[0m\u001b[1;33m)\u001b[0m\u001b[1;33m\u001b[0m\u001b[1;33m\u001b[0m\u001b[0m\n\u001b[0m\u001b[0;32m     14\u001b[0m \u001b[1;33m\u001b[0m\u001b[0m\n\u001b[0;32m     15\u001b[0m     \u001b[0mprint\u001b[0m\u001b[1;33m(\u001b[0m\u001b[1;33m)\u001b[0m\u001b[1;33m\u001b[0m\u001b[1;33m\u001b[0m\u001b[0m\n",
      "\u001b[1;32m<ipython-input-132-c2698c2354f2>\u001b[0m in \u001b[0;36mfit_naive_bayes\u001b[1;34m(X_train_vect1, X_test_vect1, X_train_vect2, X_test_vect2, y_train, y_test)\u001b[0m\n\u001b[0;32m      8\u001b[0m   \u001b[0mpredict_subj\u001b[0m\u001b[1;33m,\u001b[0m \u001b[0mpredict_desc\u001b[0m\u001b[1;33m,\u001b[0m \u001b[0mpredict_comb\u001b[0m\u001b[1;33m,\u001b[0m \u001b[0mpredict_prob_subj\u001b[0m\u001b[1;33m,\u001b[0m \u001b[0mpredict_prob_desc\u001b[0m\u001b[1;33m,\u001b[0m \u001b[0mpredict_prob_comb\u001b[0m \u001b[1;33m=\u001b[0m \u001b[0mpredict_and_score\u001b[0m\u001b[1;33m(\u001b[0m\u001b[0mclf1\u001b[0m\u001b[1;33m,\u001b[0m \u001b[0mX_test_vect1\u001b[0m\u001b[1;33m,\u001b[0m \u001b[0mclf2\u001b[0m\u001b[1;33m,\u001b[0m \u001b[0mX_test_vect2\u001b[0m\u001b[1;33m,\u001b[0m \u001b[0my_test\u001b[0m\u001b[1;33m)\u001b[0m\u001b[1;33m\u001b[0m\u001b[1;33m\u001b[0m\u001b[0m\n\u001b[0;32m      9\u001b[0m \u001b[1;33m\u001b[0m\u001b[0m\n\u001b[1;32m---> 10\u001b[1;33m   \u001b[0mconfusion_plot\u001b[0m\u001b[1;33m(\u001b[0m\u001b[0my_test\u001b[0m\u001b[1;33m,\u001b[0m \u001b[0mpredict_subj\u001b[0m\u001b[1;33m,\u001b[0m \u001b[0mpredict_desc\u001b[0m\u001b[1;33m,\u001b[0m \u001b[0mpredict_comb\u001b[0m\u001b[1;33m)\u001b[0m\u001b[1;33m\u001b[0m\u001b[1;33m\u001b[0m\u001b[0m\n\u001b[0m\u001b[0;32m     11\u001b[0m   \u001b[0mroc_plot\u001b[0m\u001b[1;33m(\u001b[0m\u001b[0my_test\u001b[0m\u001b[1;33m,\u001b[0m \u001b[0mpredict_prob_subj\u001b[0m\u001b[1;33m,\u001b[0m \u001b[0mpredict_prob_desc\u001b[0m\u001b[1;33m,\u001b[0m \u001b[0mpredict_prob_comb\u001b[0m\u001b[1;33m,\u001b[0m \u001b[1;34m'Naive Bayes'\u001b[0m\u001b[1;33m)\u001b[0m\u001b[1;33m\u001b[0m\u001b[1;33m\u001b[0m\u001b[0m\n",
      "\u001b[1;32m<ipython-input-130-d5852908712b>\u001b[0m in \u001b[0;36mconfusion_plot\u001b[1;34m(y_test, predicted_bin_subj, predicted_bin_desc, predicted_bin_comb)\u001b[0m\n\u001b[0;32m      5\u001b[0m   \u001b[0mfig\u001b[0m\u001b[1;33m,\u001b[0m \u001b[0maxs\u001b[0m \u001b[1;33m=\u001b[0m \u001b[0mplt\u001b[0m\u001b[1;33m.\u001b[0m\u001b[0msubplots\u001b[0m\u001b[1;33m(\u001b[0m\u001b[1;36m1\u001b[0m\u001b[1;33m,\u001b[0m\u001b[1;36m3\u001b[0m\u001b[1;33m,\u001b[0m \u001b[0mfigsize\u001b[0m\u001b[1;33m=\u001b[0m\u001b[1;33m(\u001b[0m\u001b[1;36m18\u001b[0m\u001b[1;33m,\u001b[0m \u001b[1;36m5\u001b[0m\u001b[1;33m)\u001b[0m\u001b[1;33m)\u001b[0m\u001b[1;33m\u001b[0m\u001b[1;33m\u001b[0m\u001b[0m\n\u001b[0;32m      6\u001b[0m \u001b[1;33m\u001b[0m\u001b[0m\n\u001b[1;32m----> 7\u001b[1;33m   \u001b[0mConfusionMatrixDisplay\u001b[0m\u001b[1;33m.\u001b[0m\u001b[0mfrom_predictions\u001b[0m\u001b[1;33m(\u001b[0m\u001b[0my_test\u001b[0m\u001b[1;33m,\u001b[0m \u001b[0mpredicted_bin_subj\u001b[0m\u001b[1;33m,\u001b[0m \u001b[0max\u001b[0m\u001b[1;33m=\u001b[0m\u001b[0maxs\u001b[0m\u001b[1;33m[\u001b[0m\u001b[1;36m0\u001b[0m\u001b[1;33m]\u001b[0m\u001b[1;33m)\u001b[0m\u001b[1;33m\u001b[0m\u001b[1;33m\u001b[0m\u001b[0m\n\u001b[0m\u001b[0;32m      8\u001b[0m   \u001b[0mConfusionMatrixDisplay\u001b[0m\u001b[1;33m.\u001b[0m\u001b[0mfrom_predictions\u001b[0m\u001b[1;33m(\u001b[0m\u001b[0my_test\u001b[0m\u001b[1;33m,\u001b[0m \u001b[0mpredicted_bin_desc\u001b[0m\u001b[1;33m,\u001b[0m \u001b[0max\u001b[0m\u001b[1;33m=\u001b[0m\u001b[0maxs\u001b[0m\u001b[1;33m[\u001b[0m\u001b[1;36m1\u001b[0m\u001b[1;33m]\u001b[0m\u001b[1;33m)\u001b[0m\u001b[1;33m\u001b[0m\u001b[1;33m\u001b[0m\u001b[0m\n\u001b[0;32m      9\u001b[0m   \u001b[0mConfusionMatrixDisplay\u001b[0m\u001b[1;33m.\u001b[0m\u001b[0mfrom_predictions\u001b[0m\u001b[1;33m(\u001b[0m\u001b[0my_test\u001b[0m\u001b[1;33m,\u001b[0m \u001b[0mpredicted_bin_comb\u001b[0m\u001b[1;33m,\u001b[0m \u001b[0max\u001b[0m\u001b[1;33m=\u001b[0m\u001b[0maxs\u001b[0m\u001b[1;33m[\u001b[0m\u001b[1;36m2\u001b[0m\u001b[1;33m]\u001b[0m\u001b[1;33m)\u001b[0m\u001b[1;33m\u001b[0m\u001b[1;33m\u001b[0m\u001b[0m\n",
      "\u001b[1;31mAttributeError\u001b[0m: type object 'ConfusionMatrixDisplay' has no attribute 'from_predictions'"
     ]
    },
    {
     "data": {
      "image/png": "[encoded data removed]",
      "text/plain": [
       "<Figure size 1296x360 with 3 Axes>"
      ]
     },
     "metadata": {
      "needs_background": "light"
     },
     "output_type": "display_data"
    }
   ],
   "source": [
    "categories_to_fit = ['objective','quality','testing','integration','refactoring'] #Ordered from most populated to least populated. #Only 'quality' and 'testing' are approximately balanced.\n",
    "\n",
    "fit_everything(categories_to_fit)"
   ]
  },
  {
   "cell_type": "code",
   "execution_count": null,
   "metadata": {},
   "outputs": [],
   "source": []
  },
  {
   "cell_type": "code",
   "execution_count": null,
   "metadata": {},
   "outputs": [],
   "source": []
  }
 ],
 "metadata": {
  "colab": {
   "provenance": []
  },
  "kernelspec": {
   "display_name": "Python 3",
   "language": "python",
   "name": "python3"
  },
  "language_info": {
   "codemirror_mode": {
    "name": "ipython",
    "version": 3
   },
   "file_extension": ".py",
   "mimetype": "text/x-python",
   "name": "python",
   "nbconvert_exporter": "python",
   "pygments_lexer": "ipython3",
   "version": "3.6.15"
  }
 },
 "nbformat": 4,
 "nbformat_minor": 1
}
